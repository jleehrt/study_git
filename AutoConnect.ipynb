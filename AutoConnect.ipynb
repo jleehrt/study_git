{
  "nbformat": 4,
  "nbformat_minor": 0,
  "metadata": {
    "anaconda-cloud": {},
    "kernelspec": {
      "display_name": "Python 3",
      "language": "python",
      "name": "python3"
    },
    "language_info": {
      "codemirror_mode": {
        "name": "ipython",
        "version": 3
      },
      "file_extension": ".py",
      "mimetype": "text/x-python",
      "name": "python",
      "nbconvert_exporter": "python",
      "pygments_lexer": "ipython3",
      "version": "3.6.1"
    },
    "colab": {
      "name": "AutoConnect.ipynb",
      "provenance": [],
      "collapsed_sections": []
    }
  },
  "cells": [
    {
      "cell_type": "code",
      "metadata": {
        "id": "OZFauBSzACyf"
      },
      "source": [
        "from pywinauto import application\n",
        "import time\n",
        "import os\n",
        "\n",
        "os.system('taskkill /IM coStarter* /F /T')\n",
        "os.system('taskkill /IM CpStart* /F /T')\n",
        "os.system('wmic process where \"name like \\'%coStarter%\\'\" call terminate')\n",
        "os.system('wmic process where \"name like \\'%CpStart%\\'\" call terminate')\n",
        "time.sleep(5)        \n",
        "\n",
        "app = application.Application()\n",
        "app.start('C:\\CREON\\STARTER\\coStarter.exe /prj:cp /id:아이디 /pwd:비밀번호 /pwdcert:공인인증서비밀번호 /autostart')\n",
        "time.sleep(60)"
      ],
      "execution_count": null,
      "outputs": []
    }
  ]
}