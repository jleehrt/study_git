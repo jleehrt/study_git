{
  "nbformat": 4,
  "nbformat_minor": 0,
  "metadata": {
    "colab": {
      "name": "HappyNumber.ipynb",
      "private_outputs": true,
      "provenance": [],
      "authorship_tag": "ABX9TyMyOpeEx7WYwweFDQLRR6kx"
    },
    "kernelspec": {
      "name": "python3",
      "display_name": "Python 3"
    },
    "language_info": {
      "name": "python"
    }
  },
  "cells": [
    {
      "cell_type": "code",
      "metadata": {
        "id": "7WTk5EUlLvNH"
      },
      "source": [
        "# # stack = [0]\n",
        "# x = 4\n",
        "\n",
        "\n",
        "x = 19\n",
        "def solution(x):\n",
        "    a = x\n",
        "    b = []\n",
        "    while True:   \n",
        "        stack = []\n",
        "        index_list = [int(i) for i in str(a)] # a의 자리를 분리 [1, 9] -> [8, 2]\n",
        "\n",
        "        for ind in index_list:\n",
        "            stack.append(ind * ind) # [1, 81] -> [64, 4]\n",
        "\n",
        "        a = sum(stack)\n",
        "        if ((a == 1) | (a in b)):\n",
        "            break\n",
        "        b.append(a) # b = [82] -> [82, 68]\n",
        "\n",
        "    if a == 1:\n",
        "        print('Happy')\n",
        "\n",
        "    else:\n",
        "        print('Unhappy')"
      ],
      "execution_count": null,
      "outputs": []
    }
  ]
}