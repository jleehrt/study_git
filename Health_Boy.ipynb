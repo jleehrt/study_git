{
  "nbformat": 4,
  "nbformat_minor": 0,
  "metadata": {
    "colab": {
      "name": "Untitled6.ipynb",
      "private_outputs": true,
      "provenance": [],
      "authorship_tag": "ABX9TyNE9LGndv5qy3iaEECCVR1y"
    },
    "kernelspec": {
      "name": "python3",
      "display_name": "Python 3"
    },
    "language_info": {
      "name": "python"
    }
  },
  "cells": [
    {
      "cell_type": "code",
      "metadata": {
        "id": "rnWav0ICYfbA"
      },
      "source": [
        "from itertools import product\n",
        "\n",
        "def solution(n, lost, reserve):   \n",
        "    max_len = []\n",
        "    total = []\n",
        "    noc = []\n",
        "    trash = []\n",
        "    for re in reserve:\n",
        "        if re in lost:\n",
        "            trash.append(re)\n",
        "\n",
        "    for tr in trash:\n",
        "        lost.remove(tr)\n",
        "        reserve.remove(tr)\n",
        "        # print(n - len(lost))\n",
        "\n",
        "        # total = []\n",
        "        # noc = []\n",
        "    for r in reserve:\n",
        "        total.append([r-1, r+1])\n",
        "\n",
        "    for i in product(*total):\n",
        "        noc.append(list(set(i)))\n",
        "        # print(noc)\n",
        "\n",
        "        # max_len = []\n",
        "    for number in noc:\n",
        "        max_len.append(len(list(set(lost).intersection(number))))\n",
        "    \n",
        "    # print(max_len)\n",
        "\n",
        "    return n - (len(lost) - max(max_len))"
      ],
      "execution_count": null,
      "outputs": []
    },
    {
      "cell_type": "code",
      "metadata": {
        "id": "ZLIlWNuYKP-2"
      },
      "source": [
        "solution(5, [2, 4], [1, 3])"
      ],
      "execution_count": null,
      "outputs": []
    },
    {
      "cell_type": "code",
      "metadata": {
        "id": "Q-QyjFVzKUsK"
      },
      "source": [
        ""
      ],
      "execution_count": null,
      "outputs": []
    }
  ]
}