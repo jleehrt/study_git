{
  "nbformat": 4,
  "nbformat_minor": 0,
  "metadata": {
    "colab": {
      "name": "activation_function.ipynb",
      "provenance": [],
      "collapsed_sections": [],
      "authorship_tag": "ABX9TyMU+jXBioA2ZauNrdZF94pr"
    },
    "kernelspec": {
      "name": "python3",
      "display_name": "Python 3"
    }
  },
  "cells": [
    {
      "cell_type": "markdown",
      "metadata": {
        "id": "Vh6emNoKM6JX"
      },
      "source": [
        "sigmoid function"
      ]
    },
    {
      "cell_type": "code",
      "metadata": {
        "id": "3zIu_ZNDNT9o"
      },
      "source": [
        "import numpy as np\r\n",
        "import matplotlib.pyplot as plt"
      ],
      "execution_count": 2,
      "outputs": []
    },
    {
      "cell_type": "code",
      "metadata": {
        "id": "1UERRne1NXHh"
      },
      "source": [
        "def sigmoid(x):\r\n",
        "    return 1 / (1 + np.exp(-x)) # [1] "
      ],
      "execution_count": 15,
      "outputs": []
    },
    {
      "cell_type": "markdown",
      "metadata": {
        "id": "eoMtdWXOOQ8y"
      },
      "source": [
        "[1] e<sup>x</sup>을 구하는 지수함수이다. \r\n",
        "e는 자연상수임. <p>\r\n",
        "x값이 0으로부터 음수 방향으로 멀어지면 분모(1 + np.exp(-x))의 값이 커지므로 y값은 0에 가까워진다. <p>\r\n",
        "x값이 0으로부터 양수 방향으로 멀어지면 exp(-x)가 0에 가까워지므로 y값은 1에 가까워진다."
      ]
    },
    {
      "cell_type": "code",
      "metadata": {
        "id": "BZQXnVflNt_x"
      },
      "source": [
        "x = np.arange(-10, 10, 0.1) # [2]\r\n",
        "y = sigmoid(x)"
      ],
      "execution_count": 17,
      "outputs": []
    },
    {
      "cell_type": "markdown",
      "metadata": {
        "id": "0zzwGtvgO9DH"
      },
      "source": [
        "[2] x값으로 -10부터 9.9까지 0.1간격의 소수로 이루어진 배열을 준비한다. <p>\r\n",
        "-1.00000000e + n은 -1.00000000 \\* 10<sup>n</sup>을 의미하므로, <p> x의 첫번째 수 -1.00000000e + 01은 -1.00000000 \\* 10<sup>1</sup>이 되어 -10을 나타낸다."
      ]
    },
    {
      "cell_type": "code",
      "metadata": {
        "id": "FPoEgq3eNu5n",
        "colab": {
          "base_uri": "https://localhost:8080/",
          "height": 281
        },
        "outputId": "59c0a3f2-f0df-411e-c192-ddf645295566"
      },
      "source": [
        "plt.plot(x, y)\r\n",
        "plt.title('sigmoid function')\r\n",
        "plt.show()"
      ],
      "execution_count": 5,
      "outputs": [
        {
          "output_type": "display_data",
          "data": {
            "image/png": "[encoded data removed]",
            "text/plain": [
              "<Figure size 432x288 with 1 Axes>"
            ]
          },
          "metadata": {
            "tags": [],
            "needs_background": "light"
          }
        }
      ]
    },
    {
      "cell_type": "markdown",
      "metadata": {
        "id": "-TDG4N-hPyua"
      },
      "source": [
        "softmax function"
      ]
    },
    {
      "cell_type": "code",
      "metadata": {
        "id": "qaJ7D352P09r"
      },
      "source": [
        "def softmax(x):\r\n",
        "    return np.exp(x) / np.sum(np.exp(x))"
      ],
      "execution_count": 6,
      "outputs": []
    },
    {
      "cell_type": "code",
      "metadata": {
        "id": "vWOgRXCIP_ge",
        "colab": {
          "base_uri": "https://localhost:8080/"
        },
        "outputId": "68ec38c5-d141-4965-ca2e-2a457bbf5eaa"
      },
      "source": [
        "softmax([1, 1, 2]) # [3]"
      ],
      "execution_count": 13,
      "outputs": [
        {
          "output_type": "execute_result",
          "data": {
            "text/plain": [
              "array([0.21194156, 0.21194156, 0.57611688])"
            ]
          },
          "metadata": {
            "tags": []
          },
          "execution_count": 13
        }
      ]
    },
    {
      "cell_type": "markdown",
      "metadata": {
        "id": "amqDgPh-Njvg"
      },
      "source": [
        "[3] softmax 함수에 의해 출력되는 값은 각각 0 ~ 1 범위에 있으며 가장 큰 출력값을 부여받은 클래스로 분류될 확률이 가장 높다. <p>전체 출력값의 합계는 항상 '1' 이다. 위에 결과는 2에 대항하는 클래스로 분류될 확률이 57%로 가장 높다."
      ]
    }
  ]
}
