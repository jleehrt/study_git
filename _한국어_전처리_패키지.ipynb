{
  "nbformat": 4,
  "nbformat_minor": 0,
  "metadata": {
    "colab": {
      "name": "# 한국어 전처리 패키지.ipynb",
      "private_outputs": true,
      "provenance": [],
      "collapsed_sections": [],
      "mount_file_id": "152lcxB4pT5wbBgnibdxh7Ivcfj4PMU3C",
      "authorship_tag": "ABX9TyNptvemCIR+rskOzPsv+FZc"
    },
    "kernelspec": {
      "name": "python3",
      "display_name": "Python 3"
    },
    "language_info": {
      "name": "python"
    }
  },
  "cells": [
    {
      "cell_type": "markdown",
      "metadata": {
        "id": "wzlOlEocgU-B"
      },
      "source": [
        "# 데이터 로드"
      ]
    },
    {
      "cell_type": "code",
      "metadata": {
        "id": "5j1JgLz_e7Wu"
      },
      "source": [
        "import pandas as pd\n",
        "\n",
        "# # # 긍정 부정 사전 # # # # # # # # # # # # # # # # # # # # # # # # # # # # # # \n",
        "txt = '/content/drive/MyDrive/t-NPS_진일님/키워드.txt'            \n",
        "\n",
        "knu = pd.read_csv(txt, delimiter = '\\t')            \n",
        "\n",
        "knu_neg = knu['단어'][knu['점수']<= -1].tolist()\n",
        "knu_pos = knu['단어'][knu['점수']>= 0].tolist()\n",
        "# # # # # # # # # # # # # # # # # # # # # # # # # # # # # # # # # # # # # # # # \n",
        "\n",
        "\n",
        "\n",
        "# # # # # 원본 텍스트 데이터 가져오기 # # # # # # # # # # # # # # # # # # # # # \n",
        "txt = '/content/drive/MyDrive/t-NPS_진일님/긍정부정.txt'\n",
        "\n",
        "text = pd.read_csv(txt, delimiter = '\\t')\n",
        "# # # # # # # # # # # # # # # # # # # # ## # # # # # # # # # # # # # # # # # # "
      ],
      "execution_count": null,
      "outputs": []
    },
    {
      "cell_type": "code",
      "metadata": {
        "id": "IzwdMEqaoXgq"
      },
      "source": [
        "# # # # # # # # # 네이버 맞춤범 검사기 설치 런타임 종료되면 다시 재설치 (띄어쓰기까지 지원)\n",
        "# !pip install git+https://github.com/ssut/py-hanspell.git"
      ],
      "execution_count": null,
      "outputs": []
    },
    {
      "cell_type": "code",
      "metadata": {
        "id": "OEJg5rPb6dKm"
      },
      "source": [
        "from hanspell import spell_checker\n",
        "\n",
        "new_text = []\n",
        "for i in text['문항10항목']:\n",
        "    spelled_sent = spell_checker.check(i)\n",
        "    new_text.append(spelled_sent.checked)\n",
        "\n",
        "text['맞춤법'] = new_text\n",
        "# # # # # # # # # # # # # # # # # # # # # # # # # # # # # # \n",
        "# # # # # # # # # # # # # # # # 라벨 붙이기\n",
        "full = []\n",
        "score = []\n",
        "for txt in text['맞춤법']:\n",
        "    for idx, i in enumerate(knu['단어']):\n",
        "        if i in txt:\n",
        "            score.append(knu['점수'][idx])\n",
        "    full.append(sum(score))\n",
        "    # print(sum(score), '초기화됩니다.')\n",
        "    score = []\n",
        "# print(len(full), len(text))\n",
        "text['점수'] = full\n",
        "# # # # # # # # # # # # # # # # # # # # # # # # # # # # # # \n",
        "full = []\n",
        "neg = []\n",
        "stack = []\n",
        "for txt in text['맞춤법']:\n",
        "    for idx, i in enumerate(knu_neg):\n",
        "        if i in txt:\n",
        "            neg.append(i)\n",
        "    full.append(neg)\n",
        "    # print(len(neg))\n",
        "    if len(neg) >= 1:\n",
        "        stack.append('불만')\n",
        "    else:\n",
        "        stack.append(0)\n",
        "    # print(sum(score), '초기화됩니다.')\n",
        "    neg = []\n",
        "text['불만'] = stack\n",
        "text['불만단어'] = full\n",
        "# # # # # # # # # # # # # # # # # # # # # # # # # # # # # # \n",
        "full = []\n",
        "pos = []\n",
        "stack = []\n",
        "for txt in text['맞춤법']:\n",
        "    for idx, i in enumerate(knu_pos):\n",
        "        if i in txt:\n",
        "            pos.append(i)\n",
        "    full.append(pos)\n",
        "    # print(full)\n",
        "    # print(len(neg))\n",
        "    if len(pos) >= 1:\n",
        "        stack.append('칭찬')\n",
        "    else:\n",
        "        stack.append(0)\n",
        "    # print(sum(score), '초기화됩니다.')\n",
        "    pos = []\n",
        "text['칭찬'] = stack\n",
        "text['칭찬단어'] = full"
      ],
      "execution_count": null,
      "outputs": []
    },
    {
      "cell_type": "markdown",
      "metadata": {
        "id": "F_uy_LZF-56y"
      },
      "source": [
        "* 부정 --> 음수 : TP\n",
        "* 긍정 --> 양수 : TN\n",
        "* 긍정 --> 음수 : FP\n",
        "* 부정 --> 양수 : FN"
      ]
    },
    {
      "cell_type": "code",
      "metadata": {
        "id": "nWfdjO65-5Uv"
      },
      "source": [
        "threshlod_num = 0\n",
        "text['분류'] = 'none'\n",
        "text['분류'].loc[(text['구분']=='부정')&(text['점수']<= threshlod_num)] = 'TP'\n",
        "text['분류'].loc[(text['구분']=='부정')&(text['점수']> threshlod_num)] = 'FN'\n",
        "text['분류'].loc[(text['구분']=='긍정')&(text['점수']<= threshlod_num)] = 'FP'\n",
        "text['분류'].loc[(text['구분']=='긍정')&(text['점수']> threshlod_num)] = 'TN'\n",
        "\n",
        "text['설명'] = 'none'\n",
        "text['설명'].loc[text['분류']=='TP'] = '부정 --> 음수'\n",
        "text['설명'].loc[text['분류']=='FN'] = '부정 --> 양수'\n",
        "text['설명'].loc[text['분류']=='FP'] = '긍정 --> 음수'\n",
        "text['설명'].loc[text['분류']=='TN'] = '긍정 --> 양수'"
      ],
      "execution_count": null,
      "outputs": []
    },
    {
      "cell_type": "code",
      "metadata": {
        "id": "wDBbel5_iMtT"
      },
      "source": [
        "# # # # # # # # # # # # # # # # # # # # 정확도 # # # # # # # # # # # # # # # # # # # # # # # # \n",
        "print('정확도:',(len(text['분류'][text['분류']=='TN'])+len(text['분류'][text['분류']=='TP']))/len(text))\n",
        "print('\\n')\n",
        "\n",
        "\n",
        "\n",
        "\n",
        "# # # 부정을 부정으로 예측 # # # # \n",
        "print('부정을 부정으로 예측:',len(text['분류'][text['분류']=='TP']) / (len(text['분류'][text['분류']=='TP']) + len(text['분류'][text['분류']=='FN'])))\n",
        "\n",
        "print('\\n')\n",
        "# # # 긍정을 긍정으로 예측 # # # # \n",
        "print('긍정을 긍정으로 예측:', len(text['분류'][text['분류']=='TN']) / (len(text['분류'][text['분류']=='TN']) + len(text['분류'][text['분류']=='FP'])))"
      ],
      "execution_count": null,
      "outputs": []
    },
    {
      "cell_type": "code",
      "metadata": {
        "id": "xiNpvuEVPY_z"
      },
      "source": [
        "text.to_csv('/content/drive/MyDrive/t-NPS_진일님/현업사전기반감성분석_최종결과.csv', encoding = 'utf-8-sig')"
      ],
      "execution_count": null,
      "outputs": []
    },
    {
      "cell_type": "code",
      "metadata": {
        "id": "iA2ikPLUnJZ_"
      },
      "source": [
        "text[['맞춤법', '불만단어', '칭찬단어', '점수', '설명','구분']][text['분류']=='FN'].to_csv('/content/drive/MyDrive/t-NPS_진일님/부정을긍정으로판단.csv', encoding = 'utf-8-sig')\n",
        "text[['맞춤법', '불만단어', '칭찬단어', '점수', '설명','구분']][text['분류']=='FP'].to_csv('/content/drive/MyDrive/t-NPS_진일님/긍정을부정으로판단.csv', encoding = 'utf-8-sig')\n",
        "text[['맞춤법', '불만단어', '칭찬단어', '점수', '설명','구분']][text['분류']=='TP'].to_csv('/content/drive/MyDrive/t-NPS_진일님/부정을부정으로판단.csv', encoding = 'utf-8-sig')\n",
        "text[['맞춤법', '불만단어', '칭찬단어', '점수', '설명','구분']][text['분류']=='TN'].to_csv('/content/drive/MyDrive/t-NPS_진일님/긍정을긍정으로판단.csv', encoding = 'utf-8-sig')"
      ],
      "execution_count": null,
      "outputs": []
    },
    {
      "cell_type": "code",
      "metadata": {
        "id": "liw8G5N7nJfD"
      },
      "source": [
        "# # # # #  # # # #  그래프 확인 # # # #  # # # #  # # # # "
      ],
      "execution_count": null,
      "outputs": []
    },
    {
      "cell_type": "code",
      "metadata": {
        "id": "yTJnWHOroSTL"
      },
      "source": [
        "# Y axis as density\n",
        "import numpy as np\n",
        "\n",
        "import pandas as pd\n",
        "\n",
        "import matplotlib.pyplot as plt\n",
        "\n",
        "import seaborn as sns\n",
        "\n",
        "\n",
        "plt.subplot(2, 1, 1) \n",
        "plt.hist(text['점수'][text['구분']== '부정'], bins=20)\n",
        "plt.title('bad')\n",
        "\n",
        "plt.subplot(2, 1, 2) \n",
        "plt.hist(text['점수'][text['구분']== '긍정'], bins=20)\n",
        "plt.title('good')\n",
        "\n",
        "# n, bins, patches = plt.hist(text['score'][text['구분']== '지속불편'], bins=10, density=True)"
      ],
      "execution_count": null,
      "outputs": []
    },
    {
      "cell_type": "code",
      "metadata": {
        "id": "ebvkLsl91KM4"
      },
      "source": [
        "import numpy as np\n",
        "\n",
        "print('부정 평균 :', round(np.mean(text['점수'][text['구분']== '부정'].tolist()), 3), '\\n'\n",
        "      '중앙값 :', np.median(text['점수'][text['구분']== '부정'].tolist()),'\\n'\n",
        "     '최대값 :', max(text['점수'][text['구분']== '부정']),'\\n'\n",
        "    '최소값 :', min(text['점수'][text['구분']== '부정']))\n",
        "\n",
        "print('\\n','\\n')\n",
        "\n",
        "print('긍정 평균 :', round(np.mean(text['점수'][text['구분']== '긍정'].tolist()), 3), '\\n'\n",
        "      '중앙값 :', np.median(text['점수'][text['구분']== '긍정'].tolist()),'\\n'\n",
        "     '최대값 :', max(text['점수'][text['구분']== '긍정']),'\\n'\n",
        "    '최소값 :', min(text['점수'][text['구분']== '긍정']))"
      ],
      "execution_count": null,
      "outputs": []
    },
    {
      "cell_type": "code",
      "metadata": {
        "id": "ZJm6VUNUMWYd"
      },
      "source": [
        ""
      ],
      "execution_count": null,
      "outputs": []
    }
  ]
}