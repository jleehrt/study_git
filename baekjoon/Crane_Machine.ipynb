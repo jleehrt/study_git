{
  "nbformat": 4,
  "nbformat_minor": 0,
  "metadata": {
    "colab": {
      "name": "Crane Machine.ipynb",
      "private_outputs": true,
      "provenance": [],
      "authorship_tag": "ABX9TyPoYFu57H3gOWA0qWqr1K+w"
    },
    "kernelspec": {
      "name": "python3",
      "display_name": "Python 3"
    },
    "language_info": {
      "name": "python"
    }
  },
  "cells": [
    {
      "cell_type": "code",
      "metadata": {
        "id": "NL4oh9vaQlH3"
      },
      "source": [
        "full = []\n",
        "import numpy as np\n",
        "board = [[0, 0, 0], [1, 1, 1], [2, 2, 1]]\n",
        "moves = [1, 2, 1, 2, 3, 3]\n",
        "def solution(board, moves):\n",
        "    # 전치\n",
        "    board_T = np.transpose(board).tolist()\n",
        "    # 땡기기전에 모든 0을 삭제\n",
        "    for b in board_T:\n",
        "        while 0 in b:\n",
        "            b.remove(0)\n",
        "\n",
        "    result = []\n",
        "    count = []\n",
        "    full = []\n",
        "\n",
        "    # 땡기고 전체 길이만큼 0을 부착\n",
        "    for b in board_T:\n",
        "        k = len(board) - len(b)\n",
        "        full.append(b+(k*[0]))\n",
        "        # print(full)\n",
        "\n",
        "    for m in moves:\n",
        "        # print(full[m-1])\n",
        "        if full[m-1][0] > 0:\n",
        "            result.append(full[m-1][0])\n",
        "            full[m-1].remove(full[m-1][0])\n",
        "            full[m-1] = full[m-1]+[0]\n",
        "\n",
        "    stack = []\n",
        "    while True:\n",
        "        break_var = 0\n",
        "        if len(result) == 0:\n",
        "            # print(len(stack)*2)\n",
        "            answer = len(stack)*2\n",
        "            break\n",
        "\n",
        "        for i in range(len(result)-1):\n",
        "            if result[i] == result[i+1]:\n",
        "                stack.append(result[i])\n",
        "                result.remove(result[i])\n",
        "                result.remove(result[i])\n",
        "                # print(result_test)\n",
        "                break\n",
        "\n",
        "            if i+1 == len(result)-1:\n",
        "                break_var = 1\n",
        "\n",
        "\n",
        "        if break_var == 1:\n",
        "            answer = (len(stack)*2)\n",
        "            break\n",
        "\n",
        "    return answer\n"
      ],
      "execution_count": null,
      "outputs": []
    },
    {
      "cell_type": "code",
      "metadata": {
        "id": "00lfGc405cuV"
      },
      "source": [
        "solution(board, moves)"
      ],
      "execution_count": null,
      "outputs": []
    },
    {
      "cell_type": "code",
      "metadata": {
        "id": "kC24m9dxdr8K"
      },
      "source": [
        "board = [[0, 0, 0], [1, 1, 1], [2, 2, 1]]\n",
        "moves = [1, 2, 1, 2, 3, 3]\n",
        "board_T = np.transpose(board).tolist()"
      ],
      "execution_count": null,
      "outputs": []
    },
    {
      "cell_type": "code",
      "metadata": {
        "id": "1ZxKY40wd4kB"
      },
      "source": [
        "board_T"
      ],
      "execution_count": null,
      "outputs": []
    },
    {
      "cell_type": "code",
      "metadata": {
        "id": "kHtUzJv0d5s5"
      },
      "source": [
        "for b in board_T:\n",
        "    while 0 in b:\n",
        "        b.remove(0)"
      ],
      "execution_count": null,
      "outputs": []
    },
    {
      "cell_type": "code",
      "metadata": {
        "id": "gdK5scrbd8ow"
      },
      "source": [
        "result = []\n",
        "count = []\n",
        "full = []\n",
        "# 땡기고 전체 길이만큼 0을 부착\n",
        "\n",
        "for b in board_T:\n",
        "    k = len(board) - len(b)\n",
        "    full.append(b+(k*[0]))\n",
        "print(full)"
      ],
      "execution_count": null,
      "outputs": []
    },
    {
      "cell_type": "code",
      "metadata": {
        "id": "PNkIZBZBd-qJ"
      },
      "source": [
        "for m in moves:\n",
        "    # print(full[m-1])\n",
        "    if full[m-1][0] > 0:\n",
        "        print(full[m-1][0])\n",
        "        result.append(full[m-1][0])\n",
        "        full[m-1].remove(full[m-1][0])\n",
        "        full[m-1] = full[m-1]+[0]"
      ],
      "execution_count": null,
      "outputs": []
    },
    {
      "cell_type": "code",
      "metadata": {
        "id": "c61f0FqVeBgJ"
      },
      "source": [
        "result"
      ],
      "execution_count": null,
      "outputs": []
    },
    {
      "cell_type": "code",
      "metadata": {
        "id": "flyeU_5ieCPJ"
      },
      "source": [
        "stack = []\n",
        "while True:\n",
        "    break_var = 0\n",
        "    if len(result) == 0:\n",
        "        print(len(stack)*2)\n",
        "        answer = len(stack)*2\n",
        "        break\n",
        "\n",
        "    for i in range(len(result)-1):\n",
        "        if result[i] == result[i+1]:\n",
        "            stack.append(result[i])\n",
        "            result.remove(result[i])\n",
        "            result.remove(result[i])\n",
        "            # print(result_test)\n",
        "            break\n",
        "\n",
        "        if i+1 == len(result)-1:\n",
        "            break_var = 1\n",
        "\n",
        "\n",
        "    if break_var == 1:\n",
        "        answer = (len(stack)*2)\n",
        "        break\n",
        "\n",
        "return answer"
      ],
      "execution_count": null,
      "outputs": []
    },
    {
      "cell_type": "code",
      "metadata": {
        "id": "FN80aF3Uew5-"
      },
      "source": [
        "result"
      ],
      "execution_count": null,
      "outputs": []
    },
    {
      "cell_type": "code",
      "metadata": {
        "id": "4QfSu0r3fMCh"
      },
      "source": [
        ""
      ],
      "execution_count": null,
      "outputs": []
    }
  ]
}
