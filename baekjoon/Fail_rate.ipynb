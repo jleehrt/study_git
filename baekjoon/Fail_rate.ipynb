{
  "nbformat": 4,
  "nbformat_minor": 0,
  "metadata": {
    "colab": {
      "name": "Fail_rate.ipynb",
      "private_outputs": true,
      "provenance": [],
      "authorship_tag": "ABX9TyMmM5edG55tTR2KtQUyArrW"
    },
    "kernelspec": {
      "name": "python3",
      "display_name": "Python 3"
    },
    "language_info": {
      "name": "python"
    }
  },
  "cells": [
    {
      "cell_type": "code",
      "metadata": {
        "id": "_F_cgewZD9Zv"
      },
      "source": [
        "# N = 4\n",
        "# stages = [1, 1, 5, 5]\n",
        "# len(stages)\n",
        "N = 5\n",
        "stages = [1,2,2,1,3]"
      ],
      "execution_count": null,
      "outputs": []
    },
    {
      "cell_type": "code",
      "metadata": {
        "id": "D7C4Co0VSpXf"
      },
      "source": [
        "def solution(N, stages):\n",
        "    mo_tot = []\n",
        "    n = 1\n",
        "\n",
        "    while True:\n",
        "\n",
        "        mo = []\n",
        "        for x in stages:\n",
        "            if x >= n:\n",
        "                mo.append(x)\n",
        "        n = n + 1\n",
        "\n",
        "        mo_tot.append(len(mo))\n",
        "        mo_tot\n",
        "\n",
        "        if n == N+1:\n",
        "            break\n",
        "    za_tot = []\n",
        "    n = 1\n",
        "\n",
        "    while True:\n",
        "\n",
        "        za = []\n",
        "        for x in stages:\n",
        "            if x == n:\n",
        "                za.append(x)\n",
        "        n = n + 1\n",
        "\n",
        "        za_tot.append(len(za))\n",
        "        za_tot\n",
        "\n",
        "        if n == N+1:\n",
        "            break\n",
        "    Fail = []\n",
        "    for n in [i for i in range(len(za_tot))]:\n",
        "        if mo_tot[n] == 0:\n",
        "            Fail.append(0)\n",
        "        else:\n",
        "            Fail.append(za_tot[n]/mo_tot[n])\n",
        "    z = list(zip([i+1 for i in range(len(Fail))], Fail))\n",
        "    # z = list(z)\n",
        "    result = []\n",
        "    num = [i for i in range(len(z))]\n",
        "    for n in num:\n",
        "        result.append(sorted(z, key=lambda z: z[1], reverse = True)[n][0])\n",
        "    return result"
      ],
      "execution_count": null,
      "outputs": []
    },
    {
      "cell_type": "code",
      "metadata": {
        "id": "6bDtLXYyhkpI"
      },
      "source": [
        "solution(N, stages)"
      ],
      "execution_count": null,
      "outputs": []
    },
    {
      "cell_type": "code",
      "metadata": {
        "id": "GgkA6awQH9-P"
      },
      "source": [
        ""
      ],
      "execution_count": null,
      "outputs": []
    }
  ]
}
