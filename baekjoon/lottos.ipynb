{
  "nbformat": 4,
  "nbformat_minor": 0,
  "metadata": {
    "colab": {
      "name": "lottos.ipynb",
      "private_outputs": true,
      "provenance": [],
      "authorship_tag": "ABX9TyNF/sT0opZwUByTX8HhZuc/"
    },
    "kernelspec": {
      "name": "python3",
      "display_name": "Python 3"
    },
    "language_info": {
      "name": "python"
    }
  },
  "cells": [
    {
      "cell_type": "code",
      "metadata": {
        "id": "7pBDjv2iOrJm"
      },
      "source": [
        "lottos = [1, 2, 3, 4, 5, 6]\n",
        "win_nums = [7, 8, 9, 10, 11, 12]"
      ],
      "execution_count": null,
      "outputs": []
    },
    {
      "cell_type": "code",
      "metadata": {
        "id": "EvCS1Vu6va7m"
      },
      "source": [
        "def solution(lottos, win_nums):\n",
        "    soon = [6,5,4,3,2,1]\n",
        "    unzero = []\n",
        "    zero = []\n",
        "\n",
        "    for num in lottos:\n",
        "        if num == 0:\n",
        "            zero.append(num)\n",
        "        else:\n",
        "            unzero.append(num)\n",
        "\n",
        "    if len(zero) == 6:\n",
        "        result = [1, 6]\n",
        "    elif len(set(unzero).intersection(set(win_nums))) == 0:\n",
        "        result = [6, 6]\n",
        "    else:\n",
        "        result = [soon.index(len(zero) + len(set(unzero).intersection(set(win_nums))))+1, soon.index(len(set(unzero).intersection(set(win_nums))))+1]\n",
        "    return result"
      ],
      "execution_count": null,
      "outputs": []
    },
    {
      "cell_type": "code",
      "metadata": {
        "id": "C17OMWLv3lyt"
      },
      "source": [
        "solution(lottos, win_nums)"
      ],
      "execution_count": null,
      "outputs": []
    },
    {
      "cell_type": "code",
      "metadata": {
        "id": "jN9-2fMR4tQF"
      },
      "source": [
        ""
      ],
      "execution_count": null,
      "outputs": []
    }
  ]
}
