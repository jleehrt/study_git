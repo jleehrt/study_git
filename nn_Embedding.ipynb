{
  "nbformat": 4,
  "nbformat_minor": 0,
  "metadata": {
    "colab": {
      "name": "nn.Embedding.ipynb",
      "private_outputs": true,
      "provenance": [],
      "collapsed_sections": [],
      "authorship_tag": "ABX9TyMg81sDeEo7pSwtl3meuPJ8"
    },
    "kernelspec": {
      "name": "python3",
      "display_name": "Python 3"
    },
    "language_info": {
      "name": "python"
    }
  },
  "cells": [
    {
      "cell_type": "code",
      "metadata": {
        "id": "ys9JvG97eUWZ"
      },
      "source": [
        "train_data = \"that's the beauty of the sport sometimes you laugh, sometimes you cry\"\n",
        "word_set = set(train_data.split())\n",
        "vocab = {tkn: i+2 for i, tkn in enumerate(word_set)}\n",
        "vocab['<unk>'] = 0\n",
        "vocab['<pad>'] = 1\n"
      ],
      "execution_count": null,
      "outputs": []
    },
    {
      "cell_type": "code",
      "metadata": {
        "id": "VpyASUPsfo3o"
      },
      "source": [
        "train_data"
      ],
      "execution_count": null,
      "outputs": []
    },
    {
      "cell_type": "code",
      "metadata": {
        "id": "iDuVtuz5fvJg"
      },
      "source": [
        "import torch.nn as nn\n",
        "embedding_layer = nn.Embedding(num_embeddings = len(vocab),\n",
        "                               embedding_dim = 3,\n",
        "                               padding_idx = 1)"
      ],
      "execution_count": null,
      "outputs": []
    },
    {
      "cell_type": "code",
      "metadata": {
        "id": "yRgsdNtLjYHI"
      },
      "source": [
        "print(embedding_layer.weight)"
      ],
      "execution_count": null,
      "outputs": []
    }
  ]
}