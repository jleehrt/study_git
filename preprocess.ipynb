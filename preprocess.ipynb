{
  "nbformat": 4,
  "nbformat_minor": 0,
  "metadata": {
    "colab": {
      "name": "preprocess.ipynb",
      "private_outputs": true,
      "provenance": [],
      "collapsed_sections": [],
      "authorship_tag": "ABX9TyP9T6FM2D6CQlNACDTRL8ey"
    },
    "kernelspec": {
      "name": "python3",
      "display_name": "Python 3"
    }
  },
  "cells": [
    {
      "cell_type": "markdown",
      "metadata": {
        "id": "oK153aprNF0F"
      },
      "source": [
        "## 경로 설정"
      ]
    },
    {
      "cell_type": "code",
      "metadata": {
        "id": "0oNvTH_rNLFk"
      },
      "source": [
        "DIC_ALL_FILE = './dic/total/dic.txt'"
      ],
      "execution_count": null,
      "outputs": []
    },
    {
      "cell_type": "markdown",
      "metadata": {
        "id": "jWlnZLxwNRpL"
      },
      "source": [
        "## 데이터 로드"
      ]
    },
    {
      "cell_type": "code",
      "metadata": {
        "id": "uxU_BnfaNX0t"
      },
      "source": [
        "import pandas as pd\r\n",
        "import re\r\n",
        "from pandas import DataFrame"
      ],
      "execution_count": null,
      "outputs": []
    },
    {
      "cell_type": "code",
      "metadata": {
        "id": "T6geK1PUNj5Q"
      },
      "source": [
        "# df = pd.read_csv('')\r\n",
        "# 열 결측값 제거\r\n",
        "# df = df[df[''].notnull()]\r\n",
        "# df = df.loc[df[''] != '']"
      ],
      "execution_count": null,
      "outputs": []
    },
    {
      "cell_type": "markdown",
      "metadata": {
        "id": "23WWDQoCOEUx"
      },
      "source": [
        "## idx 값을 0-5까지 바꿔주세요"
      ]
    },
    {
      "cell_type": "code",
      "metadata": {
        "id": "_ioeMp7WOJUw"
      },
      "source": [
        "idx = 0"
      ],
      "execution_count": null,
      "outputs": []
    },
    {
      "cell_type": "code",
      "metadata": {
        "id": "lCKeT-0kOOBH"
      },
      "source": [
        "# 데이터 필터링\r\n",
        "# df = df.loc[df['']].isin(a[idx]) & df[''].isin(b[idx])"
      ],
      "execution_count": null,
      "outputs": []
    },
    {
      "cell_type": "markdown",
      "metadata": {
        "id": "NNL_OvTnOvOU"
      },
      "source": [
        "## replace 사전 불러오기"
      ]
    },
    {
      "cell_type": "code",
      "metadata": {
        "id": "I62KFFwvOw3k"
      },
      "source": [
        "# with open(DIC_ALL_FILE, encoding='utf-8') as result:\r\n",
        "#     dic_replace = {}\r\n",
        "#     replace_list = []\r\n",
        "#     for voc in result:\r\n",
        "#         KeyValue = voc.strip().split('\\t')\r\n",
        "#         replace_list.append(keyValue[0])\r\n",
        "#         dic_replace[keyValue[0]] = keyValue[1]"
      ],
      "execution_count": null,
      "outputs": []
    },
    {
      "cell_type": "markdown",
      "metadata": {
        "id": "ZSwP7fqQOw_r"
      },
      "source": [
        "## text 전처리"
      ]
    },
    {
      "cell_type": "code",
      "metadata": {
        "id": "lnf2Nmg1OxFL"
      },
      "source": [
        "# def checkLen(x):\r\n",
        "#     if len(x) > 2:\r\n",
        "#         return True\r\n",
        "#     else:\r\n",
        "#         return False\r\n",
        "\r\n",
        "# def preprocess(x):\r\n",
        "#     # x에 한행씩 반복되어 들어옴(단일값)\r\n",
        "\r\n",
        "#     # 텍스트에 포함되어 있는 특수 문자 제거\r\n",
        "#     text = re.sub('[-=+,#/\\?:^$.@*\\\"※~&%ㆍ!』\\\\‘|\\(\\)\\[\\]\\<\\>`\\'…》] ()ㄱㄴㄷㄻㅄㅇㅈㅊㅋㅌㅍ하ㅑㅓㅕㅗㅛㅜㅣ]', ' ', x)\r\n",
        "\r\n",
        "#     for dic_replace_key in dic_replace.keys():\r\n",
        "#         text = re.sub(dic_replace_key, dic_replace[dic_replace_key], text)\r\n",
        "\r\n",
        "#     return text\r\n",
        "\r\n",
        "# # 숫자 여부 판단 함수\r\n",
        "# def isNumber(s):\r\n",
        "#     try:\r\n",
        "#         float(s)\r\n",
        "#         return True\r\n",
        "#     except ValueError:\r\n",
        "#         return False"
      ],
      "execution_count": null,
      "outputs": []
    },
    {
      "cell_type": "code",
      "metadata": {
        "id": "zybt69MvOxPU"
      },
      "source": [
        "# # 대문자로 변경\r\n",
        "# pd_dataframe_reason[''] = pd_dataframe_reason[''].str.upper()\r\n",
        "# # String으로 type 변환 \r\n",
        "# text_data = pd_dataframe_reason[''].astype(str)\r\n",
        "\r\n",
        "# preprocess 함수 불러오기\r\n",
        "# text_data = text_data.apply(preprocess)\r\n",
        "\r\n",
        "# 결측값 제거\r\n",
        "# text_data = text_data.dropna()\r\n",
        "\r\n",
        "# df[''] = text_data"
      ],
      "execution_count": null,
      "outputs": []
    }
  ]
}