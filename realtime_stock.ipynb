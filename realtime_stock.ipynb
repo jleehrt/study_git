{
  "nbformat": 4,
  "nbformat_minor": 0,
  "metadata": {
    "colab": {
      "name": "realtime_stock.ipynb",
      "private_outputs": true,
      "provenance": [],
      "authorship_tag": "ABX9TyPBj1Map6DTdl/IJT2WI7oc"
    },
    "kernelspec": {
      "name": "python3",
      "display_name": "Python 3"
    },
    "language_info": {
      "name": "python"
    }
  },
  "cells": [
    {
      "cell_type": "code",
      "metadata": {
        "id": "ZUT_xJ5V0sPS"
      },
      "source": [
        "# 네이버 금융 삼성전자 데이터 수집\n",
        "\n",
        "import threading\n",
        "import time\n",
        "import requests\n",
        "from bs4 import BeautifulSoup\n",
        "from datetime import datetime\n",
        "import os \n",
        "\n",
        "\n",
        "\n",
        "def get_bs_obj(com_code):\n",
        "        url = \"https://finance.naver.com/item/main.nhn?code=\" + com_code\n",
        "        result = requests.get(url)\n",
        "        bs_obj = BeautifulSoup(result.content, \"html.parser\") #html.parser 로 파이썬에서 쓸 수 있는 형태로 변환\n",
        "        return bs_obj\n",
        "\n",
        "def get_price(com_code):\n",
        "        bs_obj = get_bs_obj(com_code)\n",
        "        no_today = bs_obj.find(\"p\", {\"class\":\"no_today\"})\n",
        "        blind_now = no_today.find(\"span\", {\"class\":\"blind\"})\n",
        "        return blind_now.text"
      ],
      "execution_count": null,
      "outputs": []
    },
    {
      "cell_type": "code",
      "metadata": {
        "id": "0-6eObe_AO_w"
      },
      "source": [
        "int(get_price(\"035720\").replace(',',''))\n"
      ],
      "execution_count": null,
      "outputs": []
    },
    {
      "cell_type": "code",
      "metadata": {
        "id": "i4p_dXts0j2K"
      },
      "source": [
        "while True: \n",
        "    from IPython.display import clear_output \n",
        "    clear_output()\n",
        "    price = []    \n",
        "    now = datetime.now()\n",
        "    print('카')\n",
        "    print(get_price(\"035720\"), '----->',round(int(get_price(\"035720\").replace(',','')),2)-126500)\n",
        "\n",
        "    print('__________________________')\n",
        "    print('J')\n",
        "    print(get_price(\"035900\"), '----->',round(int(get_price(\"035900\").replace(',','')),2)-39000)\n",
        "\n",
        "    print('__________________________')\n",
        "    print('C')\n",
        "    print(get_price(\"079160\"), '----->',round(int(get_price(\"079160\").replace(',','')),2)-33250)\n",
        "\n",
        "    print('__________________________')\n",
        "    if (round(int(get_price(\"035720\").replace(',','')),2)) >= 130000:\n",
        "        import smtplib\n",
        "        from email.mime.text import MIMEText\n",
        "\n",
        "        # 세션 생성\n",
        "        s = smtplib.SMTP('smtp.gmail.com', 587)\n",
        "        # TLS 보안 시작\n",
        "        s.starttls()\n",
        "        # 로그인 인증\n",
        "        s.login('jsleestat@gmail.com', 'twwicypgbyzgodod')\n",
        "        # 보낼 메시지 설정\n",
        "        msg = MIMEText('내용 : 거래가{} .'.format(get_price(\"035720\")))\n",
        "        msg['Subject'] = '제목 : 거래가{}'.format(get_price(\"035720\"))\n",
        "        # 메일 보내기\n",
        "        s.sendmail(\"jsleestat@gmail.com\", \"fomet1277@naver.com\", msg.as_string())\n",
        "        # 세션 종료\n",
        "        s.quit()\n",
        "        \n",
        "    print(\"지금은\", now.year, \"년\", now.month, \"월\", now.day, \"일\", (now.hour)+9, \"시\", now.minute, \"분\", now.second, \"초입니다. \\n\")\n",
        "    time.sleep(10)\n",
        "    \n",
        "    if (now.hour + 9 == 15) & (now.minute == 31):\n",
        "        break"
      ],
      "execution_count": null,
      "outputs": []
    },
    {
      "cell_type": "code",
      "metadata": {
        "id": "mh1Anl6Q_ZX3"
      },
      "source": [
        "import smtplib\n",
        "from email.mime.text import MIMEText\n",
        "\n",
        "# 세션 생성\n",
        "s = smtplib.SMTP('smtp.gmail.com', 587)\n",
        "# TLS 보안 시작\n",
        "s.starttls()\n",
        "# 로그인 인증\n",
        "s.login('jsleestat@gmail.com', 'twwicypgbyzgodod')\n",
        "# 보낼 메시지 설정\n",
        "msg = MIMEText('내용 : 본문내용 테스트입니다.')\n",
        "msg['Subject'] = '제목 : 메일 보내기 테스트입니다.'\n",
        "# 메일 보내기\n",
        "s.sendmail(\"jsleestat@gmail.com\", \"fomet1277@naver.com\", msg.as_string())\n",
        "# 세션 종료\n",
        "s.quit()"
      ],
      "execution_count": null,
      "outputs": []
    },
    {
      "cell_type": "code",
      "metadata": {
        "id": "YoojuTx0FWxt"
      },
      "source": [
        ""
      ],
      "execution_count": null,
      "outputs": []
    }
  ]
}