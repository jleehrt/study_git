{
  "nbformat": 4,
  "nbformat_minor": 0,
  "metadata": {
    "colab": {
      "name": "realtime_stock.ipynb",
      "private_outputs": true,
      "provenance": [],
      "authorship_tag": "ABX9TyOe774/SuuDfFmX+6IyChYI"
    },
    "kernelspec": {
      "name": "python3",
      "display_name": "Python 3"
    },
    "language_info": {
      "name": "python"
    }
  },
  "cells": [
    {
      "cell_type": "code",
      "metadata": {
        "id": "ZUT_xJ5V0sPS"
      },
      "source": [
        "# 네이버 금융 삼성전자 데이터 수집\n",
        "\n",
        "import threading\n",
        "import time\n",
        "import requests\n",
        "from bs4 import BeautifulSoup\n",
        "from datetime import datetime\n",
        "import os \n",
        "\n",
        "\n",
        "\n",
        "def get_bs_obj(com_code):\n",
        "        url = \"https://finance.naver.com/item/main.nhn?code=\" + com_code\n",
        "        result = requests.get(url)\n",
        "        bs_obj = BeautifulSoup(result.content, \"html.parser\") #html.parser 로 파이썬에서 쓸 수 있는 형태로 변환\n",
        "        return bs_obj\n",
        "\n",
        "def get_price(com_code):\n",
        "        bs_obj = get_bs_obj(com_code)\n",
        "        no_today = bs_obj.find(\"p\", {\"class\":\"no_today\"})\n",
        "        blind_now = no_today.find(\"span\", {\"class\":\"blind\"})\n",
        "        return blind_now.text"
      ],
      "execution_count": null,
      "outputs": []
    },
    {
      "cell_type": "code",
      "metadata": {
        "id": "i4p_dXts0j2K"
      },
      "source": [
        "while True: \n",
        "    from IPython.display import clear_output \n",
        "    clear_output()\n",
        "    price = []    \n",
        "    now = datetime.now()\n",
        "    print('카')\n",
        "    print(get_price(\"035720\"))\n",
        "    price.append(get_price(\"035720\"))\n",
        "    print('__________________________')\n",
        "    print('J')\n",
        "    print(get_price(\"035900\"))\n",
        "    price.append(get_price(\"035720\"))\n",
        "    print('__________________________')\n",
        "    print('C')\n",
        "    print(get_price(\"079160\"))\n",
        "    price.append(get_price(\"035720\"))\n",
        "    print('__________________________')\n",
        "    print('보유총 js는', (int(price[0])*7)+(int(price[1])*6)+(int(price[2])*6)))\n",
        "    print(\"지금은\", now.year, \"년\", now.month, \"월\", now.day, \"일\", (now.hour)+9, \"시\", now.minute, \"분\", now.second, \"초입니다. \\n\")\n",
        "    time.sleep(10)\n",
        "    \n",
        "    if (now.hour + 9 == 15) & (now.minute == 31):\n",
        "        break"
      ],
      "execution_count": null,
      "outputs": []
    }
  ]
}
