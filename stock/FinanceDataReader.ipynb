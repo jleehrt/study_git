{
  "nbformat": 4,
  "nbformat_minor": 0,
  "metadata": {
    "colab": {
      "name": "FinanceDataReader.ipynb",
      "private_outputs": true,
      "provenance": [],
      "authorship_tag": "ABX9TyMLxA9+n9rii8/Q26TxOYOy"
    },
    "kernelspec": {
      "name": "python3",
      "display_name": "Python 3"
    },
    "language_info": {
      "name": "python"
    }
  },
  "cells": [
    {
      "cell_type": "markdown",
      "metadata": {
        "id": "q5Agw903X2l0"
      },
      "source": [
        "# FinanceDataReader"
      ]
    },
    {
      "cell_type": "code",
      "metadata": {
        "id": "OV84NAD4Uncd"
      },
      "source": [
        "pip install -U finance-datareader"
      ],
      "execution_count": null,
      "outputs": []
    },
    {
      "cell_type": "code",
      "metadata": {
        "id": "If7sHnweV79G"
      },
      "source": [
        "import FinanceDataReader as fdr\n",
        "fdr.__version__"
      ],
      "execution_count": null,
      "outputs": []
    },
    {
      "cell_type": "markdown",
      "metadata": {
        "id": "bT-dy67Kfe6e"
      },
      "source": [
        "# 동적 변수 할당"
      ]
    },
    {
      "cell_type": "code",
      "metadata": {
        "id": "NuUbwOrKXdWi"
      },
      "source": [
        "import matplotlib.pyplot as plt\n",
        "import FinanceDataReader as fdr\n",
        "import datetime\n",
        "\n",
        "def BollingerBand():\n",
        "    \n",
        "    # 오늘 날짜\n",
        "    now = datetime.datetime.now() \n",
        "    nowDate = now.strftime('%Y-%m-%d')\n",
        "\n",
        "    # 긁어오기'cj cgv : 079160', 'jyp 035900'\n",
        "    re_list = []\n",
        "    num = input('종목넘버:')\n",
        "    re_list.append(num)\n",
        "    for s in re_list:\n",
        "        globals()['df_{}'.format(s)] = fdr.DataReader(s, '2021')\n",
        "        #  globals()['df_{}'.format(s)] = globals()['df_{}'.format(s)].sort_index(ascending = False) # 내림차순\n",
        "\n",
        "        idx_nm_1 = globals()['df_{}'.format(s)][globals()['df_{}'.format(s)].index == nowDate].index\n",
        "        globals()['df_{}'.format(s)] = globals()['df_{}'.format(s)].drop(idx_nm_1)\n",
        "        #  globals()['df_{}'.format(s)] = globals()['df_{}'.format(s)].head(20) # 주가의 20일 이동 평균선을 기준으로 하기 때문에 20개 종가를 이용\n",
        "\n",
        "\n",
        "    globals()['df_{}'.format(s)]['MA20'] = globals()['df_{}'.format(s)]['Close'].rolling(window=20).mean()  # ①\n",
        "    globals()['df_{}'.format(s)]['stddev'] = globals()['df_{}'.format(s)]['Close'].rolling(window=20).std() # ②\n",
        "    globals()['df_{}'.format(s)]['upper'] = globals()['df_{}'.format(s)]['MA20'] + (globals()['df_{}'.format(s)]['stddev'] * 2)   # ③\n",
        "    globals()['df_{}'.format(s)]['lower'] = globals()['df_{}'.format(s)]['MA20'] - (globals()['df_{}'.format(s)]['stddev'] * 2)   # ④\n",
        "    globals()['df_{}'.format(s)]\n",
        "    globals()['df_{}'.format(s)] = globals()['df_{}'.format(s)][19:]  # ⑤\n",
        "\n",
        "    plt.figure(figsize=(9, 5))\n",
        "    plt.plot(globals()['df_{}'.format(s)].index, globals()['df_{}'.format(s)]['Close'], color='#0000ff', label='Close')    # ⑥\n",
        "    plt.plot(globals()['df_{}'.format(s)].index, globals()['df_{}'.format(s)]['upper'], 'r--', label = 'Upper band')       # ⑦\n",
        "    plt.plot(globals()['df_{}'.format(s)].index, globals()['df_{}'.format(s)]['MA20'], 'k--', label='Moving average 20')\n",
        "    plt.plot(globals()['df_{}'.format(s)].index, globals()['df_{}'.format(s)]['lower'], 'c--', label = 'Lower band')\n",
        "    plt.fill_between(globals()['df_{}'.format(s)].index, globals()['df_{}'.format(s)]['upper'], globals()['df_{}'.format(s)]['lower'], color='0.9')  # ⑧ \n",
        "    plt.legend(loc='best')\n",
        "    plt.title('{} Bollinger Band (20 day, 2 std)'.format(s))\n",
        "    plt.xticks(rotation=45)\n",
        "    plt.show()"
      ],
      "execution_count": null,
      "outputs": []
    },
    {
      "cell_type": "markdown",
      "metadata": {
        "id": "RrcyIPRWfbPk"
      },
      "source": [
        "1. 20개 종가를 이용해서 평균을 구한다.\n",
        "2. 20개 종가를 이용해서 표준편차를 구한 뒤 stddev 컬럼으로 df에 추가한다.\n",
        "3. MA20 + (2 * std)를 상단 밴드로 계산한다.\n",
        "4. MA20 - (2 * std)를 하단 밴드로 계산한다.\n",
        "5. 1 - 4는 19번째 행까지 NaN이므로 값이 있는 20번째 행부터 사용한다.\n",
        "6. x좌표 df.index에 해당하는 종가를 y좌표로 설정해 파란색 실선으로 표시한다.\n",
        "7. x좌표 df.index에 해당하는 상단 밴드를 y좌표로 설정해 검은 실선( k -- )으로 표시한다.\n",
        "8. 상단, 하단 밴드 사이를 회색으로 칠한다."
      ]
    },
    {
      "cell_type": "code",
      "metadata": {
        "id": "esbAPHgAMq0s"
      },
      "source": [
        "BollingerBand()"
      ],
      "execution_count": null,
      "outputs": []
    },
    {
      "cell_type": "code",
      "metadata": {
        "id": "D4VhLyCirPAr"
      },
      "source": [
        ""
      ],
      "execution_count": null,
      "outputs": []
    }
  ]
}
