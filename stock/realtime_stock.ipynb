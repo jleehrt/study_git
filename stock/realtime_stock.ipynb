{
  "nbformat": 4,
  "nbformat_minor": 0,
  "metadata": {
    "colab": {
      "name": "realtime_stock.ipynb",
      "private_outputs": true,
      "provenance": [],
      "authorship_tag": "ABX9TyNj679jIkGpunNTel+KSgEu"
    },
    "kernelspec": {
      "name": "python3",
      "display_name": "Python 3"
    },
    "language_info": {
      "name": "python"
    }
  },
  "cells": [
    {
      "cell_type": "code",
      "metadata": {
        "id": "ZUT_xJ5V0sPS"
      },
      "source": [
        "# 네이버 금융 삼성전자 데이터 수집\n",
        "\n",
        "import threading\n",
        "import time\n",
        "import requests\n",
        "from bs4 import BeautifulSoup\n",
        "from datetime import datetime\n",
        "import os \n",
        "\n",
        "\n",
        "\n",
        "def get_bs_obj(com_code):\n",
        "        url = \"https://finance.naver.com/item/main.nhn?code=\" + com_code\n",
        "        result = requests.get(url)\n",
        "        bs_obj = BeautifulSoup(result.content, \"html.parser\") #html.parser 로 파이썬에서 쓸 수 있는 형태로 변환\n",
        "        return bs_obj\n",
        "# Current Price\n",
        "def get_price(com_code):\n",
        "        bs_obj = get_bs_obj(com_code)\n",
        "        no_today = bs_obj.find(\"p\", {\"class\":\"no_today\"})\n",
        "        blind_now = no_today.find(\"span\", {\"class\":\"blind\"})\n",
        "        return blind_now.text\n",
        "# Open\n",
        "def get_open(com_code):\n",
        "        bs_obj = get_bs_obj(com_code)\n",
        "        no_today = bs_obj.find(\"em\", {\"class\":\"no_up\"})\n",
        "        blind_now = no_today.find(\"span\", {\"class\":\"blind\"})\n",
        "        return blind_now.text"
      ],
      "execution_count": null,
      "outputs": []
    },
    {
      "cell_type": "code",
      "metadata": {
        "id": "i4p_dXts0j2K"
      },
      "source": [
        "import smtplib\n",
        "from email.mime.text import MIMEText\n",
        "from IPython.display import clear_output \n",
        "from tabulate import tabulate\n",
        "\n",
        "today_start = [round(int(get_open(\"035720\").replace(',','')),2), \n",
        "               round(int(get_open(\"079160\").replace(',','')),2), \n",
        "               round(int(get_open(\"034120\").replace(',','')),2)]\n",
        "while True:\n",
        "\n",
        "\n",
        "    # from IPython.display import clear_output \n",
        "    clear_output()\n",
        "    price = []    \n",
        "    now = datetime.now()\n",
        "    # print('K')\n",
        "    # print(get_price(\"035720\"), '----->',round(int(get_price(\"035720\").replace(',','')),2)-today_start[0])\n",
        "\n",
        "    # print('__________________________')\n",
        "    # print('C')\n",
        "    # print(get_price(\"079160\"), '----->',round(int(get_price(\"079160\").replace(',','')),2)-today_start[2])\n",
        "\n",
        "    # print('__________________________')    \n",
        "    # print('S')\n",
        "    # print(get_price(\"034120\"), '----->',round(int(get_price(\"034120\").replace(',','')),2)-today_start[3])\n",
        "    \n",
        "    d = [ ['K', get_price(\"035720\"), round(int(get_price(\"035720\").replace(',','')),2)-today_start[0]],\n",
        "        ['C', get_price(\"079160\"), round(int(get_price(\"079160\").replace(',','')),2)-today_start[1]],\n",
        "        ['S', get_price(\"034120\"), round(int(get_price(\"034120\").replace(',','')),2)-today_start[2]]]\n",
        "\n",
        "    print(tabulate(d, headers=[\"Symbol\", \"Current\", \"Current - Open\"]))\n",
        "\n",
        "\n",
        "\n",
        "    # print('__________________________')\n",
        "    # import smtplib\n",
        "    # from email.mime.text import MIMEText\n",
        "    if ((round(int(get_price(\"035720\").replace(',','')),2)) >= 130500)|((round(int(get_price(\"034120\").replace(',','')),2)) <= 45000):\n",
        "\n",
        "        # 세션 생성\n",
        "        s = smtplib.SMTP('smtp.gmail.com', 587)\n",
        "        # TLS 보안 시작\n",
        "        s.starttls()\n",
        "        # 로그인 인증\n",
        "        s.login('jsleestat@gmail.com', '')\n",
        "        # 보낼 메시지 설정\n",
        "        msg = MIMEText('내용 : 신호{}'.format(get_price(\"034120\")))\n",
        "        msg['Subject'] = '제목 : 신호'\n",
        "        # 메일 보내기\n",
        "        s.sendmail(\"jsleestat@gmail.com\", 'fomet1277@naver.com', msg.as_string())\n",
        "        s.sendmail(\"jsleestat@gmail.com\", \"alsdudfpahs@naver.com\", msg.as_string())\n",
        "        # 세션 종료\n",
        "        s.quit()\n",
        "  \n",
        "    print(\"지금은\", now.year, \"년\", now.month, \"월\", now.day, \"일\", (now.hour)+9, \"시\", now.minute, \"분\", now.second, \"초입니다. \\n\")\n",
        "    time.sleep(10)\n",
        "    \n",
        "    if (now.hour + 9 == 15) & (now.minute == 31):\n",
        "        break"
      ],
      "execution_count": null,
      "outputs": []
    }
  ]
}
