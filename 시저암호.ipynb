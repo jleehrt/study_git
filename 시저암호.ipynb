{
  "nbformat": 4,
  "nbformat_minor": 0,
  "metadata": {
    "colab": {
      "name": "시저암호.ipynb",
      "private_outputs": true,
      "provenance": [],
      "authorship_tag": "ABX9TyOdLeufMJAfYvwkKyScgQZS"
    },
    "kernelspec": {
      "name": "python3",
      "display_name": "Python 3"
    },
    "language_info": {
      "name": "python"
    }
  },
  "cells": [
    {
      "cell_type": "code",
      "metadata": {
        "id": "CFT2KZus053Q"
      },
      "source": [
        "s = 'AB'\n",
        "n = 1"
      ],
      "execution_count": null,
      "outputs": []
    },
    {
      "cell_type": "code",
      "metadata": {
        "id": "BTzS0hwQ89Yx"
      },
      "source": [
        "def solution(s, n):\n",
        "\n",
        "    import string \n",
        "    dictionary_cap = dict(zip([i for i in string.ascii_uppercase], [i for i in range(1, 27)]))\n",
        "    dictionary_reverse_cap = dict(zip([i for i in range(1, 27)], [i for i in string.ascii_uppercase]))\n",
        "    dictionary_lower = dict(zip([i for i in string.ascii_lowercase], [i for i in range(1, 27)]))\n",
        "    dictionary_reverse_lower = dict(zip([i for i in range(1, 27)], [i for i in string.ascii_lowercase]))\n",
        "    # s = 'a B z'\n",
        "    # n = 4\n",
        "    # result = \"BC\"\n",
        "    # space = ''\n",
        "    s = s.replace(' ', '0')\n",
        "    num_s = []\n",
        "    for i in s:\n",
        "        # print(i)\n",
        "        if i in dictionary_cap.keys():\n",
        "            i = str(dictionary_cap.get(i))\n",
        "        num_s.append(i)\n",
        "        # 바꾸고\n",
        "        # 소문자 들어가기\n",
        "\n",
        "    num_s\n",
        "    'a'.isalpha()\n",
        "    k = []\n",
        "    for i in num_s:\n",
        "        if i.isalpha() == False:\n",
        "            i = int(i)\n",
        "            if i > 0:\n",
        "                i = i + n\n",
        "            if i > 26:\n",
        "                i = i - 26\n",
        "            if i ==0:\n",
        "                i = '0'\n",
        "            if i in dictionary_reverse_cap.keys():\n",
        "                    i = str(dictionary_reverse_cap.get(i))\n",
        "        k.append(i)\n",
        "    # k\n",
        "    num_s = []\n",
        "    for i in k:\n",
        "        if i in dictionary_lower.keys():\n",
        "            i = str(dictionary_lower.get(i))\n",
        "        num_s.append(i)\n",
        "    # num_s\n",
        "    k = []\n",
        "    for i in num_s:\n",
        "        if i.isalpha() == False:\n",
        "            i = int(i)\n",
        "            if i > 0:\n",
        "                i = i + n\n",
        "            if i > 26:\n",
        "                i = i - 26\n",
        "            if i ==0:\n",
        "                i = '0'\n",
        "            if i in dictionary_reverse_lower.keys():\n",
        "                    i = str(dictionary_reverse_lower.get(i))\n",
        "        k.append(i)\n",
        "    for index, value in enumerate(k):\n",
        "        if value == '0':\n",
        "            k[index] = ' '\n",
        "    s = \"\".join(k)\n",
        "    return s"
      ],
      "execution_count": null,
      "outputs": []
    },
    {
      "cell_type": "code",
      "metadata": {
        "id": "jkVyyye10gbX"
      },
      "source": [
        "solution(s, n)"
      ],
      "execution_count": null,
      "outputs": []
    },
    {
      "cell_type": "code",
      "metadata": {
        "id": "-sojpdCi1SF2"
      },
      "source": [
        ""
      ],
      "execution_count": null,
      "outputs": []
    }
  ]
}