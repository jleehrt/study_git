{
  "nbformat": 4,
  "nbformat_minor": 0,
  "metadata": {
    "colab": {
      "name": "하샤드수.ipynb",
      "private_outputs": true,
      "provenance": [],
      "authorship_tag": "ABX9TyPKR7DhAeYXLkh90nFQYBwi"
    },
    "kernelspec": {
      "name": "python3",
      "display_name": "Python 3"
    },
    "language_info": {
      "name": "python"
    }
  },
  "cells": [
    {
      "cell_type": "code",
      "metadata": {
        "id": "yVbpb1_ZUq4z"
      },
      "source": [
        "arr = 11\n",
        "arr_list = [int(i) for i in str(arr)]"
      ],
      "execution_count": null,
      "outputs": []
    },
    {
      "cell_type": "code",
      "metadata": {
        "id": "yFhTvIYFU0I4"
      },
      "source": [
        "arr_list"
      ],
      "execution_count": null,
      "outputs": []
    },
    {
      "cell_type": "code",
      "metadata": {
        "id": "gLSyw9bzVLMr"
      },
      "source": [
        "def solution(arr):\n",
        "    arr_list = [int(i) for i in str(arr)]\n",
        "    if arr % sum(arr_list) == 0:\n",
        "        answer = True\n",
        "    else:\n",
        "        answer = False\n",
        "    return answer"
      ],
      "execution_count": null,
      "outputs": []
    },
    {
      "cell_type": "code",
      "metadata": {
        "id": "7YasFOcLVNFP"
      },
      "source": [
        "arr % sum(arr_list)"
      ],
      "execution_count": null,
      "outputs": []
    },
    {
      "cell_type": "code",
      "metadata": {
        "id": "Yp0KPB2rV-f1"
      },
      "source": [
        ""
      ],
      "execution_count": null,
      "outputs": []
    }
  ]
}